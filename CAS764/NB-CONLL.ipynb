{
 "cells": [
  {
   "cell_type": "code",
   "execution_count": 1,
   "metadata": {},
   "outputs": [],
   "source": [
    "with open('./data764/eng.train') as f:\n",
    "    train_data = f.readlines()\n",
    "with open('./data764/eng.testb') as f:\n",
    "    test_data = f.readlines()"
   ]
  },
  {
   "cell_type": "code",
   "execution_count": 2,
   "metadata": {},
   "outputs": [],
   "source": [
    "train_words = []\n",
    "train_pos = []\n",
    "train_chunk = []\n",
    "train_entity = []\n",
    "for line in train_data:\n",
    "    clean_line = line.strip()\n",
    "    split_line = clean_line.split()\n",
    "    if (len(split_line) == 4):\n",
    "        train_words.append(split_line[0])\n",
    "        train_pos.append(split_line[1])\n",
    "        train_chunk.append(split_line[2])\n",
    "        entity = split_line[3]\n",
    "        if (entity == 'I-LOC' or entity == 'B-LOC'):\n",
    "            entity = 'LOC'\n",
    "        elif (entity == 'I-PER' or entity == 'B-PER'):\n",
    "            entity = 'PER'\n",
    "        elif (entity == 'I-ORG' or entity == 'B-ORG'):\n",
    "            entity = 'ORG'\n",
    "        elif (entity == 'I-MISC' or entity == 'B-MISC'):\n",
    "            entity = 'MISC'\n",
    "        train_entity.append(entity)"
   ]
  },
  {
   "cell_type": "code",
   "execution_count": 3,
   "metadata": {},
   "outputs": [],
   "source": [
    "test_words = []\n",
    "test_pos = []\n",
    "test_chunk = []\n",
    "test_entity = []\n",
    "for line in test_data:\n",
    "    clean_line = line.strip()\n",
    "    split_line = clean_line.split()\n",
    "    if (len(split_line) == 4):\n",
    "        test_words.append(split_line[0])\n",
    "        test_pos.append(split_line[1])\n",
    "        test_chunk.append(split_line[2])\n",
    "        entity = split_line[3]\n",
    "        if (entity == 'I-LOC' or entity == 'B-LOC'):\n",
    "            entity = 'LOC'\n",
    "        elif (entity == 'I-PER' or entity == 'B-PER'):\n",
    "            entity = 'PER'\n",
    "        elif (entity == 'I-ORG' or entity == 'B-ORG'):\n",
    "            entity = 'ORG'\n",
    "        elif (entity == 'I-MISC' or entity == 'B-MISC'):\n",
    "            entity = 'MISC'\n",
    "        test_entity.append(entity)"
   ]
  },
  {
   "cell_type": "code",
   "execution_count": 4,
   "metadata": {},
   "outputs": [],
   "source": [
    "all_chars = []\n",
    "for word in train_words:\n",
    "    all_chars.append(word)\n",
    "for word in test_words:\n",
    "    all_chars.append(word)"
   ]
  },
  {
   "cell_type": "code",
   "execution_count": 5,
   "metadata": {},
   "outputs": [],
   "source": [
    "unique_chars = set(all_chars)\n",
    "#unique_chars"
   ]
  },
  {
   "cell_type": "code",
   "execution_count": 6,
   "metadata": {},
   "outputs": [],
   "source": [
    "word_dict = {}\n",
    "for i, char in enumerate(unique_chars):\n",
    "    #print(f'i:{i}, char:{char}')\n",
    "    word_dict[char] = i + 1 # + 1 if you want to mask"
   ]
  },
  {
   "cell_type": "code",
   "execution_count": 7,
   "metadata": {},
   "outputs": [],
   "source": [
    "train_words_numeric = []\n",
    "test_words_numeric = []\n",
    "for word in train_words:\n",
    "    train_words_numeric.append(word_dict[word])\n",
    "for word in test_words:\n",
    "    test_words_numeric.append(word_dict[word])"
   ]
  },
  {
   "cell_type": "code",
   "execution_count": 8,
   "metadata": {},
   "outputs": [],
   "source": [
    "#indexed_words"
   ]
  },
  {
   "cell_type": "code",
   "execution_count": 9,
   "metadata": {},
   "outputs": [],
   "source": [
    "all_chars = []\n",
    "for word in train_pos:\n",
    "    all_chars.append(word)\n",
    "for word in test_pos:\n",
    "    all_chars.append(word)\n",
    "unique_chars = set(all_chars)\n",
    "#unique_chars\n",
    "pos_dict = {}\n",
    "for i, char in enumerate(unique_chars):\n",
    "    #print(f'i:{i}, char:{char}')\n",
    "    pos_dict[char] = i + 1 # + 1 if you want to mask\n",
    "train_pos_numeric = []\n",
    "test_pos_numeric = []\n",
    "for word in train_pos:\n",
    "    train_pos_numeric.append(pos_dict[word])\n",
    "for word in test_pos:\n",
    "    test_pos_numeric.append(pos_dict[word])"
   ]
  },
  {
   "cell_type": "code",
   "execution_count": 10,
   "metadata": {},
   "outputs": [],
   "source": [
    "all_chars = []\n",
    "for word in train_chunk:\n",
    "    all_chars.append(word)\n",
    "for word in test_chunk:\n",
    "    all_chars.append(word)\n",
    "unique_chars = set(all_chars)\n",
    "#unique_chars\n",
    "chunk_dict = {}\n",
    "for i, char in enumerate(unique_chars):\n",
    "    #print(f'i:{i}, char:{char}')\n",
    "    chunk_dict[char] = i + 1 # + 1 if you want to mask\n",
    "train_chunk_numeric = []\n",
    "test_chunk_numeric = []\n",
    "for word in train_chunk:\n",
    "    train_chunk_numeric.append(chunk_dict[word])\n",
    "for word in test_chunk:\n",
    "    test_chunk_numeric.append(chunk_dict[word])"
   ]
  },
  {
   "cell_type": "code",
   "execution_count": 11,
   "metadata": {},
   "outputs": [],
   "source": [
    "all_chars = []\n",
    "for word in train_entity:\n",
    "    all_chars.append(word)\n",
    "for word in test_entity:\n",
    "    all_chars.append(word)\n",
    "unique_chars = set(all_chars)\n",
    "#unique_chars\n",
    "entity_dict = {}\n",
    "for i, char in enumerate(unique_chars):\n",
    "#    print(f'i:{i}, char:{char}')\n",
    "    entity_dict[char] = i + 1 # + 1 if you want to mask\n",
    "train_entity_numeric = []\n",
    "test_entity_numeric = []\n",
    "for word in train_entity:\n",
    "    train_entity_numeric.append(entity_dict[word])\n",
    "for word in test_entity:\n",
    "    test_entity_numeric.append(entity_dict[word])\n",
    "    "
   ]
  },
  {
   "cell_type": "code",
   "execution_count": 12,
   "metadata": {},
   "outputs": [
    {
     "data": {
      "text/plain": [
       "array([[21039,    36,     5],\n",
       "       [24716,    14,    11],\n",
       "       [ 9530,    10,     6],\n",
       "       ...,\n",
       "       [11624,    23,    11],\n",
       "       [  927,    14,    11],\n",
       "       [  269,    23,    11]])"
      ]
     },
     "execution_count": 12,
     "metadata": {},
     "output_type": "execute_result"
    }
   ],
   "source": [
    "import numpy as np\n",
    "train_feature = np.stack((train_words_numeric, train_pos_numeric, train_chunk_numeric), axis=1)\n",
    "test_feature = np.stack((test_words_numeric, test_pos_numeric, test_chunk_numeric), axis=1)\n",
    "train_feature"
   ]
  },
  {
   "cell_type": "code",
   "execution_count": 13,
   "metadata": {},
   "outputs": [
    {
     "name": "stdout",
     "output_type": "stream",
     "text": [
      "Accuracy ( 0 / 10025 ):  0.0\n",
      "Accuracy ( 165070 / 170524 ):  0.9680162323192043\n",
      "Accuracy ( 0 / 4593 ):  0.0\n",
      "Accuracy ( 0 / 8297 ):  0.0\n",
      "Accuracy ( 10385 / 11128 ):  0.9332314881380301\n",
      "{'ORG': 1, 'O': 2, 'MISC': 3, 'LOC': 4, 'PER': 5}\n",
      "Number of mislabeled points out of a total 204567 points : 29112. 0.142310\n"
     ]
    }
   ],
   "source": [
    "from sklearn.naive_bayes import GaussianNB\n",
    "gnb = GaussianNB()\n",
    "y_pred = gnb.fit(train_feature, train_entity_numeric).predict(train_feature)\n",
    "\n",
    "right = [0] * len(entity_dict)\n",
    "wrong = [0] * len(entity_dict)\n",
    "\n",
    "for x in range(0, len(train_entity_numeric)):\n",
    "    if y_pred[x] == train_entity_numeric[x]:\n",
    "        right[train_entity_numeric[x] - 1] = right[train_entity_numeric[x] - 1] + 1\n",
    "    else:\n",
    "        wrong[train_entity_numeric[x] - 1] = wrong[train_entity_numeric[x] - 1] + 1\n",
    "\n",
    "for x in range(0, len(right)):\n",
    "    print(\"Accuracy (\", right[x], \"/\", right[x]+wrong[x], \"): \", right[x]/(right[x]+wrong[x]))\n",
    "    \n",
    "print(entity_dict)\n",
    "\n",
    "print(\"Number of mislabeled points out of a total %d points : %d. %f\"\n",
    " % (train_feature.shape[0],(train_entity_numeric != y_pred).sum(), ((train_entity_numeric != y_pred).sum() / train_feature.shape[0])))"
   ]
  },
  {
   "cell_type": "code",
   "execution_count": 14,
   "metadata": {},
   "outputs": [
    {
     "name": "stdout",
     "output_type": "stream",
     "text": [
      "Accuracy ( 0 / 2496 ):  0.0\n",
      "Accuracy ( 36940 / 38554 ):  0.9581366395185973\n",
      "Accuracy ( 0 / 918 ):  0.0\n",
      "Accuracy ( 0 / 1925 ):  0.0\n",
      "Accuracy ( 2598 / 2773 ):  0.9368914532996755\n",
      "{'ORG': 1, 'O': 2, 'MISC': 3, 'LOC': 4, 'PER': 5}\n",
      "Number of mislabeled points out of a total 46666 points : 7128. 0.152745\n"
     ]
    }
   ],
   "source": [
    "y_pred = gnb.fit(train_feature, train_entity_numeric).predict(test_feature)\n",
    "\n",
    "right = [0] * len(entity_dict)\n",
    "wrong = [0] * len(entity_dict)\n",
    "\n",
    "for x in range(0, len(test_entity_numeric)):\n",
    "    if y_pred[x] == test_entity_numeric[x]:\n",
    "        right[test_entity_numeric[x] - 1] = right[test_entity_numeric[x] - 1] + 1\n",
    "    else:\n",
    "        wrong[test_entity_numeric[x] - 1] = wrong[test_entity_numeric[x] - 1] + 1\n",
    "\n",
    "for x in range(0, len(right)):\n",
    "    if (right[x] + wrong[x]) > 0:\n",
    "        print(\"Accuracy (\", right[x], \"/\", right[x]+wrong[x], \"): \", right[x]/(right[x]+wrong[x]))\n",
    "    \n",
    "print(entity_dict)\n",
    "\n",
    "print(\"Number of mislabeled points out of a total %d points : %d. %f\"\n",
    " % (test_feature.shape[0],(test_entity_numeric != y_pred).sum(), ((test_entity_numeric != y_pred).sum() / test_feature.shape[0])))"
   ]
  },
  {
   "cell_type": "code",
   "execution_count": 15,
   "metadata": {},
   "outputs": [
    {
     "data": {
      "text/plain": [
       "46666"
      ]
     },
     "execution_count": 15,
     "metadata": {},
     "output_type": "execute_result"
    }
   ],
   "source": [
    "len(y_pred)"
   ]
  },
  {
   "cell_type": "code",
   "execution_count": 16,
   "metadata": {},
   "outputs": [
    {
     "data": {
      "text/plain": [
       "46666"
      ]
     },
     "execution_count": 16,
     "metadata": {},
     "output_type": "execute_result"
    }
   ],
   "source": [
    "len(test_entity_numeric)"
   ]
  },
  {
   "cell_type": "code",
   "execution_count": 17,
   "metadata": {},
   "outputs": [
    {
     "data": {
      "text/plain": [
       "{2, 5}"
      ]
     },
     "execution_count": 17,
     "metadata": {},
     "output_type": "execute_result"
    }
   ],
   "source": [
    "set(y_pred)"
   ]
  },
  {
   "cell_type": "code",
   "execution_count": null,
   "metadata": {},
   "outputs": [],
   "source": []
  }
 ],
 "metadata": {
  "kernelspec": {
   "display_name": "Python 3",
   "language": "python",
   "name": "python3"
  },
  "language_info": {
   "codemirror_mode": {
    "name": "ipython",
    "version": 3
   },
   "file_extension": ".py",
   "mimetype": "text/x-python",
   "name": "python",
   "nbconvert_exporter": "python",
   "pygments_lexer": "ipython3",
   "version": "3.6.4"
  }
 },
 "nbformat": 4,
 "nbformat_minor": 2
}
