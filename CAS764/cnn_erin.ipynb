{
 "cells": [
  {
   "cell_type": "code",
   "execution_count": 1,
   "metadata": {},
   "outputs": [
    {
     "name": "stderr",
     "output_type": "stream",
     "text": [
      "/Users/erin/miniconda3/envs/project764/lib/python3.6/site-packages/h5py/__init__.py:36: FutureWarning: Conversion of the second argument of issubdtype from `float` to `np.floating` is deprecated. In future, it will be treated as `np.float64 == np.dtype(float).type`.\n",
      "  from ._conv import register_converters as _register_converters\n",
      "Using TensorFlow backend.\n"
     ]
    }
   ],
   "source": [
    "import numpy as np\n",
    "from keras.preprocessing import sequence\n",
    "from keras.models import Sequential\n",
    "from keras.layers import Dense, Dropout, Embedding, Conv1D, MaxPooling2D, Activation, Flatten\n",
    "from keras.utils import np_utils\n",
    "from sklearn.metrics import precision_recall_fscore_support\n",
    "from sklearn import preprocessing"
   ]
  },
  {
   "cell_type": "code",
   "execution_count": 2,
   "metadata": {},
   "outputs": [],
   "source": [
    "train_file = './data764/eng.train'\n",
    "test_file = './data764/eng.testa'\n",
    "\n",
    "with open(train_file) as f:\n",
    "    train_data = f.readlines()\n",
    "    \n",
    "with open(test_file) as f:\n",
    "    test_data = f.readlines()"
   ]
  },
  {
   "cell_type": "code",
   "execution_count": 3,
   "metadata": {},
   "outputs": [
    {
     "data": {
      "text/plain": [
       "['-DOCSTART-', '-X-', 'O', 'O']"
      ]
     },
     "execution_count": 3,
     "metadata": {},
     "output_type": "execute_result"
    }
   ],
   "source": [
    "train_data[0].split()"
   ]
  },
  {
   "cell_type": "code",
   "execution_count": 4,
   "metadata": {},
   "outputs": [],
   "source": [
    "train_words = []\n",
    "train_pos = []\n",
    "train_chunk = []\n",
    "train_entity = []\n",
    "for d in train_data:\n",
    "    data = d.split()\n",
    "    if (len(data) == 4):\n",
    "        train_words.append(data[0])\n",
    "        train_pos.append(data[1])\n",
    "        train_chunk.append(data[2])\n",
    "        entity = data[3]\n",
    "        if (entity == 'I-LOC' or entity == 'B-LOC'):\n",
    "            entity = 'LOC'\n",
    "        elif (entity == 'I-PER' or entity == 'B-PER'):\n",
    "            entity = 'PER'\n",
    "        elif (entity == 'I-ORG' or entity == 'B-ORG'):\n",
    "            entity = 'ORG'\n",
    "        elif (entity == 'I-MISC' or entity == 'B-MISC'):\n",
    "            entity = 'MISC'\n",
    "        train_entity.append(entity)"
   ]
  },
  {
   "cell_type": "code",
   "execution_count": 5,
   "metadata": {},
   "outputs": [],
   "source": [
    "test_words = []\n",
    "test_pos = []\n",
    "test_chunk = []\n",
    "test_entity = []\n",
    "for d in test_data:\n",
    "    data = d.split()\n",
    "    if (len(data) == 4):\n",
    "        test_words.append(data[0])\n",
    "        test_pos.append(data[1])\n",
    "        test_chunk.append(data[2])\n",
    "        entity = data[3]\n",
    "        if (entity == 'I-LOC' or entity == 'B-LOC'):\n",
    "            entity = 'LOC'\n",
    "        elif (entity == 'I-PER' or entity == 'B-PER'):\n",
    "            entity = 'PER'\n",
    "        elif (entity == 'I-ORG' or entity == 'B-ORG'):\n",
    "            entity = 'ORG'\n",
    "        elif (entity == 'I-MISC' or entity == 'B-MISC'):\n",
    "            entity = 'MISC'\n",
    "        test_entity.append(entity)\n",
    "#test_entity\n"
   ]
  },
  {
   "cell_type": "code",
   "execution_count": 6,
   "metadata": {},
   "outputs": [],
   "source": [
    "number_of_labels = set(train_entity+test_entity)"
   ]
  },
  {
   "cell_type": "code",
   "execution_count": 7,
   "metadata": {},
   "outputs": [],
   "source": [
    "unique_chars = set()\n",
    "for word in (train_words + test_words):\n",
    "    for char in word:\n",
    "        unique_chars.add(char)"
   ]
  },
  {
   "cell_type": "code",
   "execution_count": 8,
   "metadata": {},
   "outputs": [],
   "source": [
    "char_dict = {}\n",
    "for i, char in enumerate(unique_chars):\n",
    "    char_dict[char] = i + 1"
   ]
  },
  {
   "cell_type": "code",
   "execution_count": 9,
   "metadata": {},
   "outputs": [],
   "source": [
    "def convert_word_2_vec(input_words):\n",
    "    output_words = []\n",
    "    for word in input_words:\n",
    "        word_vec = []\n",
    "        for char in word:\n",
    "            word_vec.append(char_dict[char])\n",
    "        output_words.append(word_vec)\n",
    "    return output_words"
   ]
  },
  {
   "cell_type": "code",
   "execution_count": 10,
   "metadata": {},
   "outputs": [],
   "source": [
    "train_word_vectors = convert_word_2_vec(train_words)\n",
    "test_word_vectors = convert_word_2_vec(test_words)"
   ]
  },
  {
   "cell_type": "code",
   "execution_count": 11,
   "metadata": {},
   "outputs": [
    {
     "data": {
      "text/plain": [
       "61"
      ]
     },
     "execution_count": 11,
     "metadata": {},
     "output_type": "execute_result"
    }
   ],
   "source": [
    "# find word of maximum length\n",
    "max_word_length = 0\n",
    "for word in (train_words + test_words):\n",
    "    if len(word) > max_word_length:\n",
    "        max_word_length = len(word)\n",
    "max_word_length"
   ]
  },
  {
   "cell_type": "code",
   "execution_count": 12,
   "metadata": {},
   "outputs": [],
   "source": [
    "\n",
    "train_one_hot = preprocessing.LabelEncoder().fit_transform(train_entity)\n",
    "train_one_hot = np_utils.to_categorical(train_one_hot)\n",
    "test_one_hot = preprocessing.LabelEncoder().fit_transform(test_entity)\n",
    "test_one_hot = np_utils.to_categorical(test_one_hot)"
   ]
  },
  {
   "cell_type": "code",
   "execution_count": 13,
   "metadata": {},
   "outputs": [
    {
     "data": {
      "text/plain": [
       "(204567, 5)"
      ]
     },
     "execution_count": 13,
     "metadata": {},
     "output_type": "execute_result"
    }
   ],
   "source": [
    "train_words_padded = sequence.pad_sequences(train_word_vectors, maxlen=max_word_length)\n",
    "test_words_padded = sequence.pad_sequences(test_word_vectors, maxlen=max_word_length)\n",
    "train_entities = np.array(train_one_hot)\n",
    "test_entities = np.array(test_one_hot)\n",
    "#train_feature = np.expand_dims(np.stack(train_words_padded, axis=1), axis=1)\n",
    "#test_feature = np.expand_dims(np.stack(test_words_padded, axis=1), axis=1)\n",
    "train_feature = np.expand_dims(train_words_padded, axis=2)\n",
    "test_feature = np.expand_dims(test_words_padded, axis=2)\n",
    "#train_feature = train_words_padded\n",
    "#test_feature = test_words_padded\n",
    "\n",
    "train_entities.shape"
   ]
  },
  {
   "cell_type": "code",
   "execution_count": 14,
   "metadata": {},
   "outputs": [
    {
     "data": {
      "text/plain": [
       "(51578, 61, 1)"
      ]
     },
     "execution_count": 14,
     "metadata": {},
     "output_type": "execute_result"
    }
   ],
   "source": [
    "test_feature.shape"
   ]
  },
  {
   "cell_type": "code",
   "execution_count": 15,
   "metadata": {},
   "outputs": [
    {
     "name": "stdout",
     "output_type": "stream",
     "text": [
      "WARNING:tensorflow:From /Users/erin/miniconda3/envs/project764/lib/python3.6/site-packages/tensorflow/python/util/deprecation.py:497: calling conv1d (from tensorflow.python.ops.nn_ops) with data_format=NHWC is deprecated and will be removed in a future version.\n",
      "Instructions for updating:\n",
      "`NHWC` for data_format is deprecated, use `NWC` instead\n",
      "Train on 204567 samples, validate on 51578 samples\n",
      "Epoch 1/20\n",
      "204567/204567 [==============================] - 50s 245us/step - loss: 0.5399 - acc: 0.8424 - val_loss: 0.5183 - val_acc: 0.8477\n",
      "Epoch 2/20\n",
      "204567/204567 [==============================] - 53s 261us/step - loss: 0.4551 - acc: 0.8608 - val_loss: 0.4459 - val_acc: 0.8668\n",
      "Epoch 3/20\n",
      "204567/204567 [==============================] - 48s 232us/step - loss: 0.4040 - acc: 0.8740 - val_loss: 0.4225 - val_acc: 0.8709\n",
      "Epoch 4/20\n",
      "204567/204567 [==============================] - 52s 255us/step - loss: 0.3691 - acc: 0.8847 - val_loss: 0.3990 - val_acc: 0.8807\n",
      "Epoch 5/20\n",
      "204567/204567 [==============================] - 48s 234us/step - loss: 0.3411 - acc: 0.8938 - val_loss: 0.3863 - val_acc: 0.8867\n",
      "Epoch 6/20\n",
      "204567/204567 [==============================] - 46s 223us/step - loss: 0.3213 - acc: 0.9004 - val_loss: 0.3673 - val_acc: 0.8943\n",
      "Epoch 7/20\n",
      "204567/204567 [==============================] - 49s 241us/step - loss: 0.3041 - acc: 0.9059 - val_loss: 0.3613 - val_acc: 0.8960\n",
      "Epoch 8/20\n",
      "204567/204567 [==============================] - 49s 237us/step - loss: 0.2901 - acc: 0.9105 - val_loss: 0.3512 - val_acc: 0.9007\n",
      "Epoch 9/20\n",
      "204567/204567 [==============================] - 49s 237us/step - loss: 0.2796 - acc: 0.9144 - val_loss: 0.3516 - val_acc: 0.9033\n",
      "Epoch 10/20\n",
      "204567/204567 [==============================] - 49s 239us/step - loss: 0.2690 - acc: 0.9174 - val_loss: 0.3594 - val_acc: 0.9023\n",
      "Epoch 11/20\n",
      "204567/204567 [==============================] - 47s 232us/step - loss: 0.2605 - acc: 0.9202 - val_loss: 0.3499 - val_acc: 0.9054\n",
      "Epoch 12/20\n",
      "204567/204567 [==============================] - 53s 258us/step - loss: 0.2526 - acc: 0.9225 - val_loss: 0.3533 - val_acc: 0.9081\n",
      "Epoch 13/20\n",
      "204567/204567 [==============================] - 50s 243us/step - loss: 0.2464 - acc: 0.9248 - val_loss: 0.3406 - val_acc: 0.9112\n",
      "Epoch 14/20\n",
      "204567/204567 [==============================] - 54s 262us/step - loss: 0.2395 - acc: 0.9266 - val_loss: 0.3506 - val_acc: 0.9118\n",
      "Epoch 15/20\n",
      "204567/204567 [==============================] - 49s 240us/step - loss: 0.2342 - acc: 0.9284 - val_loss: 0.3476 - val_acc: 0.9090\n",
      "Epoch 16/20\n",
      "204567/204567 [==============================] - 49s 239us/step - loss: 0.2292 - acc: 0.9302 - val_loss: 0.3440 - val_acc: 0.9130\n",
      "Epoch 17/20\n",
      "204567/204567 [==============================] - 49s 241us/step - loss: 0.2252 - acc: 0.9309 - val_loss: 0.3431 - val_acc: 0.9105\n",
      "Epoch 18/20\n",
      "204567/204567 [==============================] - 49s 237us/step - loss: 0.2200 - acc: 0.9330 - val_loss: 0.3390 - val_acc: 0.9164\n",
      "Epoch 19/20\n",
      "204567/204567 [==============================] - 47s 232us/step - loss: 0.2167 - acc: 0.9341 - val_loss: 0.3475 - val_acc: 0.9146\n",
      "Epoch 20/20\n",
      "204567/204567 [==============================] - 51s 248us/step - loss: 0.2127 - acc: 0.9352 - val_loss: 0.3451 - val_acc: 0.9153\n"
     ]
    },
    {
     "data": {
      "text/plain": [
       "<keras.callbacks.History at 0x1a1e8c4128>"
      ]
     },
     "execution_count": 15,
     "metadata": {},
     "output_type": "execute_result"
    }
   ],
   "source": [
    "\n",
    "\n",
    "#CNN\n",
    "batch_size = 128\n",
    "input_shape=(61,1)\n",
    "epochs = 10\n",
    "model = Sequential()\n",
    "model.add(Conv1D(32, kernel_size=3, strides=1, padding='same', activation='relu',input_shape=input_shape))\n",
    "# model.add(MaxPooling2D(pool_size=(2, 2), strides=(2, 1)))\n",
    "model.add(Conv1D(64, kernel_size=3, strides=1, padding='same', activation='relu'))\n",
    "# model.add(MaxPooling2D(pool_size=(2, 2)), strides=(2, 1))\n",
    "model.add(Flatten())\n",
    "model.add(Dense(128, activation='relu'))\n",
    "model.add(Dense(units=5, activation='softmax'))\n",
    "\n",
    "'''model.compile(loss=keras.losses.categorical_crossentropy,\n",
    "              optimizer=keras.optimizers.SGD(lr=0.05),\n",
    "              metrics=['accuracy'])\n",
    "'''\n",
    "\n",
    "model.compile('adam', 'categorical_crossentropy', metrics=['accuracy'])\n",
    "\n",
    "model.fit(train_feature, train_entities,\n",
    "          batch_size=128,\n",
    "          epochs=20,\n",
    "          verbose=1,\n",
    "          validation_data=(test_feature, test_entities)\n",
    "          )"
   ]
  },
  {
   "cell_type": "code",
   "execution_count": 16,
   "metadata": {},
   "outputs": [],
   "source": [
    "\n",
    "\n",
    "test_prediction = model.predict(test_feature)\n",
    "\n",
    "test_pred= []\n",
    "for pred in test_prediction:\n",
    "    index = np.argmax(pred)\n",
    "    if index == 0:\n",
    "        test_pred.append('LOC')\n",
    "    elif index == 1:\n",
    "        test_pred.append('MISC')\n",
    "    elif index == 2:\n",
    "        test_pred.append('O')\n",
    "    elif index == 3:\n",
    "        test_pred.append('ORG')\n",
    "    elif index == 4:\n",
    "        test_pred.append('PER')\n",
    "\n"
   ]
  },
  {
   "cell_type": "code",
   "execution_count": 17,
   "metadata": {},
   "outputs": [
    {
     "data": {
      "text/plain": [
       "(array([0.75769613, 0.74906716, 0.94922474, 0.6037037 , 0.7128    ]),\n",
       " array([0.72874881, 0.63328076, 0.98008144, 0.46749522, 0.56589393]),\n",
       " array([0.7429406 , 0.68632479, 0.96440633, 0.52693966, 0.63090813]),\n",
       " array([ 2094,  1268, 42975,  2092,  3149]))"
      ]
     },
     "execution_count": 17,
     "metadata": {},
     "output_type": "execute_result"
    }
   ],
   "source": [
    "from sklearn.metrics import precision_recall_fscore_support\n",
    "\n",
    "precision_recall_fscore_support(test_entity, test_pred)"
   ]
  },
  {
   "cell_type": "code",
   "execution_count": null,
   "metadata": {},
   "outputs": [],
   "source": []
  }
 ],
 "metadata": {
  "kernelspec": {
   "display_name": "Python 3",
   "language": "python",
   "name": "python3"
  },
  "language_info": {
   "codemirror_mode": {
    "name": "ipython",
    "version": 3
   },
   "file_extension": ".py",
   "mimetype": "text/x-python",
   "name": "python",
   "nbconvert_exporter": "python",
   "pygments_lexer": "ipython3",
   "version": "3.6.4"
  }
 },
 "nbformat": 4,
 "nbformat_minor": 2
}
