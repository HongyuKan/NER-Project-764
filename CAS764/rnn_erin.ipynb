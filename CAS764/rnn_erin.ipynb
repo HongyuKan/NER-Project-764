{
 "cells": [
  {
   "cell_type": "code",
   "execution_count": 1,
   "metadata": {},
   "outputs": [
    {
     "name": "stderr",
     "output_type": "stream",
     "text": [
      "/Users/erin/miniconda3/envs/project764/lib/python3.6/site-packages/h5py/__init__.py:36: FutureWarning: Conversion of the second argument of issubdtype from `float` to `np.floating` is deprecated. In future, it will be treated as `np.float64 == np.dtype(float).type`.\n",
      "  from ._conv import register_converters as _register_converters\n",
      "Using TensorFlow backend.\n"
     ]
    }
   ],
   "source": [
    "import numpy as np\n",
    "from keras.preprocessing import sequence\n",
    "from keras.models import Sequential\n",
    "from keras.layers import Dense, Dropout, Embedding, SimpleRNN\n",
    "from keras.utils import np_utils\n",
    "from sklearn.metrics import precision_recall_fscore_support\n",
    "from sklearn import preprocessing"
   ]
  },
  {
   "cell_type": "code",
   "execution_count": 2,
   "metadata": {},
   "outputs": [],
   "source": [
    "train_file = './data764/eng.train'\n",
    "test_file = './data764/eng.testa'\n",
    "\n",
    "with open(train_file) as f:\n",
    "    train_data = f.readlines()\n",
    "    \n",
    "with open(test_file) as f:\n",
    "    test_data = f.readlines()"
   ]
  },
  {
   "cell_type": "code",
   "execution_count": 3,
   "metadata": {},
   "outputs": [
    {
     "data": {
      "text/plain": [
       "['-DOCSTART-', '-X-', 'O', 'O']"
      ]
     },
     "execution_count": 3,
     "metadata": {},
     "output_type": "execute_result"
    }
   ],
   "source": [
    "train_data[0].split()"
   ]
  },
  {
   "cell_type": "code",
   "execution_count": 4,
   "metadata": {},
   "outputs": [],
   "source": [
    "train_words = []\n",
    "train_pos = []\n",
    "train_chunk = []\n",
    "train_entity = []\n",
    "for d in train_data:\n",
    "    data = d.split()\n",
    "    if (len(data) == 4):\n",
    "        train_words.append(data[0])\n",
    "        train_pos.append(data[1])\n",
    "        train_chunk.append(data[2])\n",
    "        entity = data[3]\n",
    "        if (entity == 'I-LOC' or entity == 'B-LOC'):\n",
    "            entity = 'LOC'\n",
    "        elif (entity == 'I-PER' or entity == 'B-PER'):\n",
    "            entity = 'PER'\n",
    "        elif (entity == 'I-ORG' or entity == 'B-ORG'):\n",
    "            entity = 'ORG'\n",
    "        elif (entity == 'I-MISC' or entity == 'B-MISC'):\n",
    "            entity = 'MISC'\n",
    "        train_entity.append(entity)"
   ]
  },
  {
   "cell_type": "code",
   "execution_count": 5,
   "metadata": {},
   "outputs": [],
   "source": [
    "test_words = []\n",
    "test_pos = []\n",
    "test_chunk = []\n",
    "test_entity = []\n",
    "for d in test_data:\n",
    "    data = d.split()\n",
    "    if (len(data) == 4):\n",
    "        test_words.append(data[0])\n",
    "        test_pos.append(data[1])\n",
    "        test_chunk.append(data[2])\n",
    "        entity = data[3]\n",
    "        if (entity == 'I-LOC' or entity == 'B-LOC'):\n",
    "            entity = 'LOC'\n",
    "        elif (entity == 'I-PER' or entity == 'B-PER'):\n",
    "            entity = 'PER'\n",
    "        elif (entity == 'I-ORG' or entity == 'B-ORG'):\n",
    "            entity = 'ORG'\n",
    "        elif (entity == 'I-MISC' or entity == 'B-MISC'):\n",
    "            entity = 'MISC'\n",
    "        test_entity.append(entity)\n",
    "#test_entity\n"
   ]
  },
  {
   "cell_type": "code",
   "execution_count": 6,
   "metadata": {},
   "outputs": [],
   "source": [
    "number_of_labels = set(train_entity+test_entity)"
   ]
  },
  {
   "cell_type": "code",
   "execution_count": 7,
   "metadata": {},
   "outputs": [],
   "source": [
    "unique_chars = set()\n",
    "for word in (train_words + test_words):\n",
    "    for char in word:\n",
    "        unique_chars.add(char)"
   ]
  },
  {
   "cell_type": "code",
   "execution_count": 8,
   "metadata": {},
   "outputs": [],
   "source": [
    "char_dict = {}\n",
    "for i, char in enumerate(unique_chars):\n",
    "    char_dict[char] = i + 1"
   ]
  },
  {
   "cell_type": "code",
   "execution_count": 9,
   "metadata": {},
   "outputs": [],
   "source": [
    "def convert_word_2_vec(input_words):\n",
    "    output_words = []\n",
    "    for word in input_words:\n",
    "        word_vec = []\n",
    "        for char in word:\n",
    "            word_vec.append(char_dict[char])\n",
    "        output_words.append(word_vec)\n",
    "    return output_words"
   ]
  },
  {
   "cell_type": "code",
   "execution_count": 10,
   "metadata": {},
   "outputs": [],
   "source": [
    "train_word_vectors = convert_word_2_vec(train_words)\n",
    "test_word_vectors = convert_word_2_vec(test_words)"
   ]
  },
  {
   "cell_type": "code",
   "execution_count": 11,
   "metadata": {},
   "outputs": [],
   "source": [
    "# find word of maximum length\n",
    "max_word_length = 0\n",
    "for word in (train_words + test_words):\n",
    "    if len(word) > max_word_length:\n",
    "        max_word_length = len(word)"
   ]
  },
  {
   "cell_type": "code",
   "execution_count": 12,
   "metadata": {},
   "outputs": [],
   "source": [
    "train_one_hot = preprocessing.LabelEncoder().fit_transform(train_entity)\n",
    "train_one_hot = np_utils.to_categorical(train_one_hot)\n",
    "test_one_hot = preprocessing.LabelEncoder().fit_transform(test_entity)\n",
    "test_one_hot = np_utils.to_categorical(test_one_hot)"
   ]
  },
  {
   "cell_type": "code",
   "execution_count": 13,
   "metadata": {},
   "outputs": [],
   "source": [
    "train_words_padded = sequence.pad_sequences(train_word_vectors, maxlen=max_word_length)\n",
    "test_words_padded = sequence.pad_sequences(test_word_vectors, maxlen=max_word_length)\n",
    "train_entities = np.array(train_one_hot)\n",
    "test_entities = np.array(test_one_hot)"
   ]
  },
  {
   "cell_type": "code",
   "execution_count": 14,
   "metadata": {},
   "outputs": [
    {
     "name": "stdout",
     "output_type": "stream",
     "text": [
      "Train on 204567 samples, validate on 51578 samples\n",
      "Epoch 1/15\n",
      "204567/204567 [==============================] - 271s 1ms/step - loss: 0.3171 - acc: 0.8853 - val_loss: 0.2684 - val_acc: 0.9046\n",
      "Epoch 2/15\n",
      "204567/204567 [==============================] - 312s 2ms/step - loss: 0.2691 - acc: 0.9025 - val_loss: 0.2458 - val_acc: 0.9170\n",
      "Epoch 3/15\n",
      "204567/204567 [==============================] - 256s 1ms/step - loss: 0.2480 - acc: 0.9117 - val_loss: 0.2213 - val_acc: 0.9245\n",
      "Epoch 4/15\n",
      "204567/204567 [==============================] - 226s 1ms/step - loss: 0.2325 - acc: 0.9193 - val_loss: 0.2400 - val_acc: 0.9184\n",
      "Epoch 5/15\n",
      "204567/204567 [==============================] - 226s 1ms/step - loss: 0.2220 - acc: 0.9230 - val_loss: 0.2131 - val_acc: 0.9273\n",
      "Epoch 6/15\n",
      "204567/204567 [==============================] - 224s 1ms/step - loss: 0.2164 - acc: 0.9255 - val_loss: 0.2074 - val_acc: 0.9325\n",
      "Epoch 7/15\n",
      "204567/204567 [==============================] - 223s 1ms/step - loss: 0.2105 - acc: 0.9278 - val_loss: 0.2043 - val_acc: 0.9331\n",
      "Epoch 8/15\n",
      "204567/204567 [==============================] - 228s 1ms/step - loss: 0.2075 - acc: 0.9295 - val_loss: 0.1997 - val_acc: 0.9359\n",
      "Epoch 9/15\n",
      "204567/204567 [==============================] - 224s 1ms/step - loss: 0.2053 - acc: 0.9304 - val_loss: 0.1990 - val_acc: 0.9346\n",
      "Epoch 10/15\n",
      "204567/204567 [==============================] - 222s 1ms/step - loss: 0.2040 - acc: 0.9305 - val_loss: 0.1990 - val_acc: 0.9369\n",
      "Epoch 11/15\n",
      "204567/204567 [==============================] - 222s 1ms/step - loss: 0.2017 - acc: 0.9320 - val_loss: 0.1959 - val_acc: 0.9367\n",
      "Epoch 12/15\n",
      "204567/204567 [==============================] - 224s 1ms/step - loss: 0.2037 - acc: 0.9309 - val_loss: 0.1979 - val_acc: 0.9360\n",
      "Epoch 13/15\n",
      "204567/204567 [==============================] - 234s 1ms/step - loss: 0.2003 - acc: 0.9320 - val_loss: 0.1981 - val_acc: 0.9351\n",
      "Epoch 14/15\n",
      "204567/204567 [==============================] - 230s 1ms/step - loss: 0.1989 - acc: 0.9324 - val_loss: 0.1993 - val_acc: 0.9343\n",
      "Epoch 15/15\n",
      "204567/204567 [==============================] - 235s 1ms/step - loss: 0.2009 - acc: 0.9318 - val_loss: 0.1977 - val_acc: 0.9360\n"
     ]
    },
    {
     "data": {
      "text/plain": [
       "<keras.callbacks.History at 0x1a3f9e7c18>"
      ]
     },
     "execution_count": 14,
     "metadata": {},
     "output_type": "execute_result"
    }
   ],
   "source": [
    "batch_size = 32\n",
    "epochs = 15\n",
    "\n",
    "model = Sequential()\n",
    "model.add(Embedding(100, 128, mask_zero=True, input_length=max_word_length))\n",
    "model.add(SimpleRNN(64))\n",
    "model.add(Dropout(0.5))\n",
    "model.add(Dense(5, activation='softmax'))\n",
    "\n",
    "model.compile('adam', 'categorical_crossentropy', metrics=['accuracy'])\n",
    "\n",
    "model.fit(train_words_padded, train_entities,\n",
    "          batch_size=batch_size,\n",
    "          epochs=epochs,\n",
    "          validation_data=[test_words_padded, test_entities])"
   ]
  },
  {
   "cell_type": "code",
   "execution_count": 15,
   "metadata": {},
   "outputs": [],
   "source": [
    "\n",
    "\n",
    "test_prediction = model.predict(test_words_padded)\n",
    "\n",
    "test_pred= []\n",
    "for pred in test_prediction:\n",
    "    index = np.argmax(pred)\n",
    "    if index == 0:\n",
    "        test_pred.append('LOC')\n",
    "    elif index == 1:\n",
    "        test_pred.append('MISC')\n",
    "    elif index == 2:\n",
    "        test_pred.append('O')\n",
    "    elif index == 3:\n",
    "        test_pred.append('ORG')\n",
    "    elif index == 4:\n",
    "        test_pred.append('PER')\n",
    "\n"
   ]
  },
  {
   "cell_type": "code",
   "execution_count": 16,
   "metadata": {},
   "outputs": [
    {
     "data": {
      "text/plain": [
       "(array([0.739238  , 0.80346232, 0.98238414, 0.56059701, 0.69348442]),\n",
       " array([0.71346705, 0.62223975, 0.99141361, 0.44885277, 0.77738965]),\n",
       " array([0.72612394, 0.70133333, 0.98687822, 0.49853995, 0.73304387]),\n",
       " array([ 2094,  1268, 42975,  2092,  3149]))"
      ]
     },
     "execution_count": 16,
     "metadata": {},
     "output_type": "execute_result"
    }
   ],
   "source": [
    "from sklearn.metrics import precision_recall_fscore_support\n",
    "\n",
    "precision_recall_fscore_support(test_entity, test_pred)"
   ]
  },
  {
   "cell_type": "code",
   "execution_count": null,
   "metadata": {},
   "outputs": [],
   "source": []
  }
 ],
 "metadata": {
  "kernelspec": {
   "display_name": "Python 3",
   "language": "python",
   "name": "python3"
  },
  "language_info": {
   "codemirror_mode": {
    "name": "ipython",
    "version": 3
   },
   "file_extension": ".py",
   "mimetype": "text/x-python",
   "name": "python",
   "nbconvert_exporter": "python",
   "pygments_lexer": "ipython3",
   "version": "3.6.4"
  }
 },
 "nbformat": 4,
 "nbformat_minor": 2
}
