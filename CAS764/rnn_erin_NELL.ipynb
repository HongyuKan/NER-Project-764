{
 "cells": [
  {
   "cell_type": "code",
   "execution_count": 1,
   "metadata": {},
   "outputs": [
    {
     "name": "stderr",
     "output_type": "stream",
     "text": [
      "/Users/erin/miniconda3/envs/project764/lib/python3.6/site-packages/h5py/__init__.py:36: FutureWarning: Conversion of the second argument of issubdtype from `float` to `np.floating` is deprecated. In future, it will be treated as `np.float64 == np.dtype(float).type`.\n",
      "  from ._conv import register_converters as _register_converters\n",
      "Using TensorFlow backend.\n"
     ]
    }
   ],
   "source": [
    "import numpy as np\n",
    "from keras.preprocessing import sequence\n",
    "from keras.models import Sequential\n",
    "from keras.layers import Dense, Dropout, Embedding, SimpleRNN\n",
    "from keras.utils import np_utils\n",
    "from sklearn.metrics import precision_recall_fscore_support\n",
    "from sklearn import preprocessing"
   ]
  },
  {
   "cell_type": "code",
   "execution_count": null,
   "metadata": {},
   "outputs": [],
   "source": []
  },
  {
   "cell_type": "code",
   "execution_count": 2,
   "metadata": {},
   "outputs": [],
   "source": [
    "import math\n",
    "\n",
    "train_gs_file = './data764/NEEL2016-training_neel.gs'\n",
    "train_tsv_file = './data764/NEEL2016-training.tsv'\n",
    "test_gs_file = './data764/NEEL2016-test_neel.gs'\n",
    "test_tsv_file = './data764/NEEL2016-test.tsv'\n",
    "\n",
    "#col_names=['tweet_id','start','end','uri', 'confidence', 'type']\n",
    "\n",
    "with open(train_gs_file) as f:\n",
    "    train_gs_data = f.readlines()\n",
    "with open(train_tsv_file) as f:\n",
    "    train_tsv_data = f.readlines()\n",
    "with open(test_gs_file) as f:\n",
    "    test_gs_data = f.readlines()\n",
    "with open(test_tsv_file) as f:\n",
    "    test_tsv_data = f.readlines()\n",
    "train_gs_data[0].split()\n",
    "train_tweet_dict = {}\n",
    "for line in train_tsv_data:\n",
    "    data = line.split('|,|')\n",
    "    if (len(data) == 2):\n",
    "        tweet_id = data[0][1:]\n",
    "        tweet_text = data[1].strip()[:-1]\n",
    "        if (tweet_id is not None and tweet_text is not None):\n",
    "            train_tweet_dict[tweet_id] = tweet_text\n",
    "train_word = []\n",
    "train_entity = []\n",
    "for line in train_gs_data:\n",
    "    data = line.split()\n",
    "    if (len(data) == 6):\n",
    "        tweet_id = data[0].strip()\n",
    "        start_index = int(data[1].strip())\n",
    "        end_index = int(data[2].strip())\n",
    "        entity = data[5].strip()\n",
    "        \n",
    "        if (entity == 'Organization373937812812615000'):\n",
    "            entity = 'ORG'\n",
    "        elif (entity == 'Location'):\n",
    "            entity = 'LOC'\n",
    "        elif (entity == 'Person'):\n",
    "            entity = 'PER'\n",
    "        elif (entity == 'Organization'):\n",
    "            entity = 'ORG'\n",
    "        elif (1):\n",
    "            entity = 'O'   \n",
    "        train_entity.append(entity)\n",
    "        \n",
    "        word = train_tweet_dict[tweet_id][start_index:end_index]\n",
    "        train_word.append(word)"
   ]
  },
  {
   "cell_type": "code",
   "execution_count": 3,
   "metadata": {},
   "outputs": [],
   "source": [
    "test_tweet_dict = {}\n",
    "for line in test_tsv_data:\n",
    "    data = line.split('|,|')\n",
    "    if (len(data) == 2):\n",
    "        tweet_id = data[0][1:]\n",
    "        tweet_text = data[1].strip()[:-1]\n",
    "        if (tweet_id is not None and tweet_text is not None):\n",
    "            test_tweet_dict[tweet_id] = tweet_text\n",
    "            \n",
    "test_word = []\n",
    "test_entity = []\n",
    "for line in test_gs_data:\n",
    "    data = line.split()\n",
    "    if (len(data) == 6):\n",
    "        tweet_id = data[0].strip()\n",
    "        start_index = int(data[1].strip())\n",
    "        end_index = int(data[2].strip())\n",
    "        entity = data[5].strip()\n",
    "        \n",
    "        if (entity == 'Organization373937812812615000'):\n",
    "            entity = 'ORG'\n",
    "        elif (entity == 'Location'):\n",
    "            entity = 'LOC'\n",
    "        elif (entity == 'Person'):\n",
    "            entity = 'PER'\n",
    "        elif (entity == 'Organization'):\n",
    "            entity = 'ORG'\n",
    "        elif (1):\n",
    "            entity = 'O'  \n",
    "        test_entity.append(entity)\n",
    "        \n",
    "        word = test_tweet_dict[tweet_id][start_index:end_index]\n",
    "        test_word.append(word)"
   ]
  },
  {
   "cell_type": "code",
   "execution_count": 4,
   "metadata": {},
   "outputs": [],
   "source": [
    "number_of_labels = set(train_entity+test_entity)"
   ]
  },
  {
   "cell_type": "code",
   "execution_count": 5,
   "metadata": {},
   "outputs": [],
   "source": [
    "unique_chars = set()\n",
    "for word in (train_word + test_word):\n",
    "    for char in word:\n",
    "        unique_chars.add(char)"
   ]
  },
  {
   "cell_type": "code",
   "execution_count": 6,
   "metadata": {},
   "outputs": [],
   "source": [
    "char_dict = {}\n",
    "for i, char in enumerate(unique_chars):\n",
    "    char_dict[char] = i + 1"
   ]
  },
  {
   "cell_type": "code",
   "execution_count": 7,
   "metadata": {},
   "outputs": [],
   "source": [
    "def convert_word_2_vec(input_words):\n",
    "    output_words = []\n",
    "    for word in input_words:\n",
    "        word_vec = []\n",
    "        for char in word:\n",
    "            word_vec.append(char_dict[char])\n",
    "        output_words.append(word_vec)\n",
    "    return output_words"
   ]
  },
  {
   "cell_type": "code",
   "execution_count": 8,
   "metadata": {},
   "outputs": [],
   "source": [
    "train_word_vectors = convert_word_2_vec(train_word)\n",
    "test_word_vectors = convert_word_2_vec(test_word)"
   ]
  },
  {
   "cell_type": "code",
   "execution_count": 9,
   "metadata": {},
   "outputs": [],
   "source": [
    "# find word of maximum length\n",
    "max_word_length = 0\n",
    "for word in (train_word + test_word):\n",
    "    if len(word) > max_word_length:\n",
    "        max_word_length = len(word)"
   ]
  },
  {
   "cell_type": "code",
   "execution_count": 10,
   "metadata": {},
   "outputs": [],
   "source": [
    "train_one_hot = preprocessing.LabelEncoder().fit_transform(train_entity)\n",
    "train_one_hot = np_utils.to_categorical(train_one_hot)\n",
    "test_one_hot = preprocessing.LabelEncoder().fit_transform(test_entity)\n",
    "test_one_hot = np_utils.to_categorical(test_one_hot)"
   ]
  },
  {
   "cell_type": "code",
   "execution_count": 11,
   "metadata": {},
   "outputs": [],
   "source": [
    "train_words_padded = sequence.pad_sequences(train_word_vectors, maxlen=max_word_length)\n",
    "test_words_padded = sequence.pad_sequences(test_word_vectors, maxlen=max_word_length)\n",
    "train_entities = np.array(train_one_hot)\n",
    "test_entities = np.array(test_one_hot)"
   ]
  },
  {
   "cell_type": "code",
   "execution_count": 12,
   "metadata": {},
   "outputs": [
    {
     "name": "stdout",
     "output_type": "stream",
     "text": [
      "Train on 8665 samples, validate on 1022 samples\n",
      "Epoch 1/5\n",
      "8665/8665 [==============================] - 8s 924us/step - loss: 1.1768 - acc: 0.4927 - val_loss: 1.0717 - val_acc: 0.5597\n",
      "Epoch 2/5\n",
      "8665/8665 [==============================] - 8s 883us/step - loss: 1.0152 - acc: 0.5924 - val_loss: 1.2252 - val_acc: 0.5342\n",
      "Epoch 3/5\n",
      "8665/8665 [==============================] - 8s 883us/step - loss: 0.9720 - acc: 0.6143 - val_loss: 1.1572 - val_acc: 0.5020\n",
      "Epoch 4/5\n",
      "8665/8665 [==============================] - 8s 884us/step - loss: 0.9465 - acc: 0.6272 - val_loss: 1.1636 - val_acc: 0.5313\n",
      "Epoch 5/5\n",
      "8665/8665 [==============================] - 8s 894us/step - loss: 0.9226 - acc: 0.6426 - val_loss: 1.1323 - val_acc: 0.5431\n"
     ]
    },
    {
     "data": {
      "text/plain": [
       "<keras.callbacks.History at 0x1a24569cf8>"
      ]
     },
     "execution_count": 12,
     "metadata": {},
     "output_type": "execute_result"
    }
   ],
   "source": [
    "batch_size = 32\n",
    "epochs = 5\n",
    "\n",
    "model = Sequential()\n",
    "model.add(Embedding(100, 128, mask_zero=True, input_length=max_word_length))\n",
    "model.add(SimpleRNN(64))\n",
    "model.add(Dropout(0.5))\n",
    "model.add(Dense(4, activation='softmax'))\n",
    "\n",
    "model.compile('adam', 'categorical_crossentropy', metrics=['accuracy'])\n",
    "\n",
    "model.fit(train_words_padded, train_entities,\n",
    "          batch_size=batch_size,\n",
    "          epochs=epochs,\n",
    "          validation_data=[test_words_padded, test_entities])"
   ]
  },
  {
   "cell_type": "code",
   "execution_count": 13,
   "metadata": {},
   "outputs": [
    {
     "data": {
      "text/plain": [
       "{'LOC', 'O', 'ORG', 'PER'}"
      ]
     },
     "execution_count": 13,
     "metadata": {},
     "output_type": "execute_result"
    }
   ],
   "source": [
    "set(train_entity)\n",
    "\n"
   ]
  },
  {
   "cell_type": "code",
   "execution_count": 14,
   "metadata": {},
   "outputs": [],
   "source": [
    "test_prediction = model.predict(test_words_padded)\n",
    "\n",
    "test_pred= []\n",
    "for pred in test_prediction:\n",
    "    index = np.argmax(pred)\n",
    "    if index == 0:\n",
    "        test_pred.append('LOC')\n",
    "    elif index == 1:\n",
    "        test_pred.append('O')\n",
    "    elif index == 2:\n",
    "        test_pred.append('ORG')\n",
    "    elif index == 3:\n",
    "        test_pred.append('PER')\n",
    "   "
   ]
  },
  {
   "cell_type": "code",
   "execution_count": 15,
   "metadata": {},
   "outputs": [
    {
     "data": {
      "text/plain": [
       "(array([0.21590909, 0.61301989, 0.33088235, 0.62040816]),\n",
       " array([0.44186047, 0.70041322, 0.28481013, 0.45103858]),\n",
       " array([0.29007634, 0.65380906, 0.30612245, 0.52233677]),\n",
       " array([ 43, 484, 158, 337]))"
      ]
     },
     "execution_count": 15,
     "metadata": {},
     "output_type": "execute_result"
    }
   ],
   "source": [
    "from sklearn.metrics import precision_recall_fscore_support\n",
    "\n",
    "precision_recall_fscore_support(test_entity, test_pred)"
   ]
  },
  {
   "cell_type": "code",
   "execution_count": null,
   "metadata": {},
   "outputs": [],
   "source": []
  }
 ],
 "metadata": {
  "kernelspec": {
   "display_name": "Python 3",
   "language": "python",
   "name": "python3"
  },
  "language_info": {
   "codemirror_mode": {
    "name": "ipython",
    "version": 3
   },
   "file_extension": ".py",
   "mimetype": "text/x-python",
   "name": "python",
   "nbconvert_exporter": "python",
   "pygments_lexer": "ipython3",
   "version": "3.6.4"
  }
 },
 "nbformat": 4,
 "nbformat_minor": 2
}
